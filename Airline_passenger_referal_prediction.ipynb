{
 "cells": [
  {
   "cell_type": "markdown",
   "id": "b2cd49e6",
   "metadata": {},
   "source": [
    "<h1 style=\"color: #bf0e23  \">Airline_passenger_referal_prediction</h1>\n",
    " <h2 style=\"color: #590ebf\">Project Type - Classification/Supervised Machine Learning</h2>\n",
    " <h3 style=\"color:#0ebf26\"> Contribution - Individual</h3>"
   ]
  },
  {
   "cell_type": "markdown",
   "id": "39416a39",
   "metadata": {},
   "source": [
    "<h2 style=\"color: #bf0e23 \" > Data Description</h2>"
   ]
  },
  {
   "cell_type": "markdown",
   "id": "fe78c3eb",
   "metadata": {},
   "source": [
    "<h3 style=\"color: #590ebf\">Data includes airline reviews from 2006 to 2019 for popular airlines around the world withmultiple choice and \n",
    "free text questions. Data is scraped in Spring 2019. \n",
    "The main objectiveis to predict whether passengers will refer the airline to their friends.</h3>"
   ]
  },
  {
   "cell_type": "markdown",
   "id": "9e39c39f",
   "metadata": {},
   "source": [
    "<h3 style=\"color: #bf0e23 \">Feature descriptions briefly as follows:</h3>\n",
    "\n",
    "<b>airline:</b> Name of the airline.\n",
    "\n",
    "<b>overall:</b> Overall point is given to the trip between 1 to 10.\n",
    "\n",
    "<b>author:</b> Author of the trip\n",
    "\n",
    "<b><b>review date: </b>Date of the Review\n",
    "\n",
    "<b>customer review:</b>Review of the customers in free text format\n",
    "\n",
    "<b>aircraft:</b> Type of the aircraft\n",
    "\n",
    "<b>traveller type: </b>Type of traveler (e.g. business, leisure)\n",
    "\n",
    "<b>cabin:</b> Cabin at the flight date flown: Flight date\n",
    "\n",
    "<b>seat comfort:</b> Rated between 1-5\n",
    "\n",
    "<b>cabin service:</b> Rated between 1-5\n",
    "\n",
    "<b>foodbev:</b> Rated between 1-5\n",
    "\n",
    "<b>entertainment:</b> Rated between 1-5\n",
    "\n",
    "<b>ground service:</b> Rated between 1-5\n",
    "\n",
    "<b>value for money:</b> Rated between 1-5\n",
    "\n",
    "<b>recommended:</b> Binary, target variable.\n"
   ]
  },
  {
   "cell_type": "markdown",
   "id": "71f6be81",
   "metadata": {},
   "source": [
    "\n",
    "<h2 style=\"color: #bf0e23  \">Objective</h2>\n",
    "\n",
    "<b>The main objective is to predict whether passengers will refer the airline to their family or friends.</b>\n"
   ]
  },
  {
   "cell_type": "code",
   "execution_count": 1,
   "id": "cd635c03",
   "metadata": {},
   "outputs": [],
   "source": [
    "#import module\n",
    "import pandas as pd\n",
    "import numpy as np\n",
    "import matplotlib.pyplot as plt\n",
    "import seaborn as sns\n",
    "from sklearn.model_selection import train_test_split\n",
    "from sklearn.tree import DecisionTreeClassifier\n",
    "from sklearn.ensemble import RandomForestClassifier\n",
    "from sklearn.linear_model import LogisticRegression\n",
    "from sklearn import svm\n",
    "from sklearn.naive_bayes import GaussianNB\n",
    "from sklearn.neighbors import KNeighborsClassifier\n",
    "from sklearn.metrics import classification_report, confusion_matrix, accuracy_score\n",
    "from sklearn.model_selection import GridSearchCV\n",
    "from sklearn.svm import SVC"
   ]
  },
  {
   "cell_type": "code",
   "execution_count": 2,
   "id": "27ae5cc1",
   "metadata": {},
   "outputs": [],
   "source": [
    "\n",
    "\n",
    "# Importing  metrics for evaluation for our models\n",
    "from sklearn import metrics\n",
    "from sklearn.metrics import classification_report,confusion_matrix\n",
    "from sklearn.metrics import accuracy_score,precision_score\n",
    "from sklearn.metrics import recall_score,f1_score,roc_curve, roc_auc_score\n",
    "     \n"
   ]
  },
  {
   "cell_type": "code",
   "execution_count": 3,
   "id": "ab94e6b3",
   "metadata": {},
   "outputs": [],
   "source": [
    "path='C://Users/Ghani/Downloads/data_airline_reviews.xlsx'\n",
    "df=pd.read_excel(path)"
   ]
  },
  {
   "cell_type": "markdown",
   "id": "2415f690",
   "metadata": {},
   "source": [
    "### Understand More About The Data"
   ]
  },
  {
   "cell_type": "code",
   "execution_count": 4,
   "id": "98f25055",
   "metadata": {},
   "outputs": [
    {
     "data": {
      "text/html": [
       "<div>\n",
       "<style scoped>\n",
       "    .dataframe tbody tr th:only-of-type {\n",
       "        vertical-align: middle;\n",
       "    }\n",
       "\n",
       "    .dataframe tbody tr th {\n",
       "        vertical-align: top;\n",
       "    }\n",
       "\n",
       "    .dataframe thead th {\n",
       "        text-align: right;\n",
       "    }\n",
       "</style>\n",
       "<table border=\"1\" class=\"dataframe\">\n",
       "  <thead>\n",
       "    <tr style=\"text-align: right;\">\n",
       "      <th></th>\n",
       "      <th>airline</th>\n",
       "      <th>overall</th>\n",
       "      <th>author</th>\n",
       "      <th>review_date</th>\n",
       "      <th>customer_review</th>\n",
       "      <th>aircraft</th>\n",
       "      <th>traveller_type</th>\n",
       "      <th>cabin</th>\n",
       "      <th>route</th>\n",
       "      <th>date_flown</th>\n",
       "      <th>seat_comfort</th>\n",
       "      <th>cabin_service</th>\n",
       "      <th>food_bev</th>\n",
       "      <th>entertainment</th>\n",
       "      <th>ground_service</th>\n",
       "      <th>value_for_money</th>\n",
       "      <th>recommended</th>\n",
       "    </tr>\n",
       "  </thead>\n",
       "  <tbody>\n",
       "    <tr>\n",
       "      <th>0</th>\n",
       "      <td>NaN</td>\n",
       "      <td>NaN</td>\n",
       "      <td>NaN</td>\n",
       "      <td>NaN</td>\n",
       "      <td>NaN</td>\n",
       "      <td>NaN</td>\n",
       "      <td>NaN</td>\n",
       "      <td>NaN</td>\n",
       "      <td>NaN</td>\n",
       "      <td>NaN</td>\n",
       "      <td>NaN</td>\n",
       "      <td>NaN</td>\n",
       "      <td>NaN</td>\n",
       "      <td>NaN</td>\n",
       "      <td>NaN</td>\n",
       "      <td>NaN</td>\n",
       "      <td>NaN</td>\n",
       "    </tr>\n",
       "    <tr>\n",
       "      <th>1</th>\n",
       "      <td>Turkish Airlines</td>\n",
       "      <td>7.0</td>\n",
       "      <td>Christopher Hackley</td>\n",
       "      <td>8th May 2019</td>\n",
       "      <td>âœ… Trip Verified | London to Izmir via Istanb...</td>\n",
       "      <td>NaN</td>\n",
       "      <td>Business</td>\n",
       "      <td>Economy Class</td>\n",
       "      <td>London to Izmir via Istanbul</td>\n",
       "      <td>2019-05-01 00:00:00</td>\n",
       "      <td>4.0</td>\n",
       "      <td>5.0</td>\n",
       "      <td>4.0</td>\n",
       "      <td>4.0</td>\n",
       "      <td>2.0</td>\n",
       "      <td>4.0</td>\n",
       "      <td>yes</td>\n",
       "    </tr>\n",
       "    <tr>\n",
       "      <th>2</th>\n",
       "      <td>NaN</td>\n",
       "      <td>NaN</td>\n",
       "      <td>NaN</td>\n",
       "      <td>NaN</td>\n",
       "      <td>NaN</td>\n",
       "      <td>NaN</td>\n",
       "      <td>NaN</td>\n",
       "      <td>NaN</td>\n",
       "      <td>NaN</td>\n",
       "      <td>NaN</td>\n",
       "      <td>NaN</td>\n",
       "      <td>NaN</td>\n",
       "      <td>NaN</td>\n",
       "      <td>NaN</td>\n",
       "      <td>NaN</td>\n",
       "      <td>NaN</td>\n",
       "      <td>NaN</td>\n",
       "    </tr>\n",
       "    <tr>\n",
       "      <th>3</th>\n",
       "      <td>Turkish Airlines</td>\n",
       "      <td>2.0</td>\n",
       "      <td>Adriana Pisoi</td>\n",
       "      <td>7th May 2019</td>\n",
       "      <td>âœ… Trip Verified | Istanbul to Bucharest. We ...</td>\n",
       "      <td>NaN</td>\n",
       "      <td>Family Leisure</td>\n",
       "      <td>Economy Class</td>\n",
       "      <td>Istanbul to Bucharest</td>\n",
       "      <td>2019-05-01 00:00:00</td>\n",
       "      <td>4.0</td>\n",
       "      <td>1.0</td>\n",
       "      <td>1.0</td>\n",
       "      <td>1.0</td>\n",
       "      <td>1.0</td>\n",
       "      <td>1.0</td>\n",
       "      <td>no</td>\n",
       "    </tr>\n",
       "    <tr>\n",
       "      <th>4</th>\n",
       "      <td>NaN</td>\n",
       "      <td>NaN</td>\n",
       "      <td>NaN</td>\n",
       "      <td>NaN</td>\n",
       "      <td>NaN</td>\n",
       "      <td>NaN</td>\n",
       "      <td>NaN</td>\n",
       "      <td>NaN</td>\n",
       "      <td>NaN</td>\n",
       "      <td>NaN</td>\n",
       "      <td>NaN</td>\n",
       "      <td>NaN</td>\n",
       "      <td>NaN</td>\n",
       "      <td>NaN</td>\n",
       "      <td>NaN</td>\n",
       "      <td>NaN</td>\n",
       "      <td>NaN</td>\n",
       "    </tr>\n",
       "  </tbody>\n",
       "</table>\n",
       "</div>"
      ],
      "text/plain": [
       "            airline  overall               author   review_date  \\\n",
       "0               NaN      NaN                  NaN           NaN   \n",
       "1  Turkish Airlines      7.0  Christopher Hackley  8th May 2019   \n",
       "2               NaN      NaN                  NaN           NaN   \n",
       "3  Turkish Airlines      2.0        Adriana Pisoi  7th May 2019   \n",
       "4               NaN      NaN                  NaN           NaN   \n",
       "\n",
       "                                     customer_review aircraft  traveller_type  \\\n",
       "0                                                NaN      NaN             NaN   \n",
       "1  âœ… Trip Verified | London to Izmir via Istanb...      NaN        Business   \n",
       "2                                                NaN      NaN             NaN   \n",
       "3  âœ… Trip Verified | Istanbul to Bucharest. We ...      NaN  Family Leisure   \n",
       "4                                                NaN      NaN             NaN   \n",
       "\n",
       "           cabin                         route           date_flown  \\\n",
       "0            NaN                           NaN                  NaN   \n",
       "1  Economy Class  London to Izmir via Istanbul  2019-05-01 00:00:00   \n",
       "2            NaN                           NaN                  NaN   \n",
       "3  Economy Class         Istanbul to Bucharest  2019-05-01 00:00:00   \n",
       "4            NaN                           NaN                  NaN   \n",
       "\n",
       "   seat_comfort  cabin_service  food_bev  entertainment  ground_service  \\\n",
       "0           NaN            NaN       NaN            NaN             NaN   \n",
       "1           4.0            5.0       4.0            4.0             2.0   \n",
       "2           NaN            NaN       NaN            NaN             NaN   \n",
       "3           4.0            1.0       1.0            1.0             1.0   \n",
       "4           NaN            NaN       NaN            NaN             NaN   \n",
       "\n",
       "   value_for_money recommended  \n",
       "0              NaN         NaN  \n",
       "1              4.0         yes  \n",
       "2              NaN         NaN  \n",
       "3              1.0          no  \n",
       "4              NaN         NaN  "
      ]
     },
     "execution_count": 4,
     "metadata": {},
     "output_type": "execute_result"
    }
   ],
   "source": [
    "df.head()"
   ]
  },
  {
   "cell_type": "code",
   "execution_count": 5,
   "id": "34782c9c",
   "metadata": {},
   "outputs": [
    {
     "data": {
      "text/plain": [
       "(131895, 17)"
      ]
     },
     "execution_count": 5,
     "metadata": {},
     "output_type": "execute_result"
    }
   ],
   "source": [
    "df.shape"
   ]
  },
  {
   "cell_type": "code",
   "execution_count": 6,
   "id": "dd6dacf0",
   "metadata": {},
   "outputs": [
    {
     "data": {
      "text/plain": [
       "Index(['airline', 'overall', 'author', 'review_date', 'customer_review',\n",
       "       'aircraft', 'traveller_type', 'cabin', 'route', 'date_flown',\n",
       "       'seat_comfort', 'cabin_service', 'food_bev', 'entertainment',\n",
       "       'ground_service', 'value_for_money', 'recommended'],\n",
       "      dtype='object')"
      ]
     },
     "execution_count": 6,
     "metadata": {},
     "output_type": "execute_result"
    }
   ],
   "source": [
    "df.columns"
   ]
  },
  {
   "cell_type": "code",
   "execution_count": 7,
   "id": "6628e7c4",
   "metadata": {},
   "outputs": [
    {
     "name": "stdout",
     "output_type": "stream",
     "text": [
      "<class 'pandas.core.frame.DataFrame'>\n",
      "RangeIndex: 131895 entries, 0 to 131894\n",
      "Data columns (total 17 columns):\n",
      " #   Column           Non-Null Count  Dtype  \n",
      "---  ------           --------------  -----  \n",
      " 0   airline          65947 non-null  object \n",
      " 1   overall          64017 non-null  float64\n",
      " 2   author           65947 non-null  object \n",
      " 3   review_date      65947 non-null  object \n",
      " 4   customer_review  65947 non-null  object \n",
      " 5   aircraft         19718 non-null  object \n",
      " 6   traveller_type   39755 non-null  object \n",
      " 7   cabin            63303 non-null  object \n",
      " 8   route            39726 non-null  object \n",
      " 9   date_flown       39633 non-null  object \n",
      " 10  seat_comfort     60681 non-null  float64\n",
      " 11  cabin_service    60715 non-null  float64\n",
      " 12  food_bev         52608 non-null  float64\n",
      " 13  entertainment    44193 non-null  float64\n",
      " 14  ground_service   39358 non-null  float64\n",
      " 15  value_for_money  63975 non-null  float64\n",
      " 16  recommended      64440 non-null  object \n",
      "dtypes: float64(7), object(10)\n",
      "memory usage: 17.1+ MB\n"
     ]
    }
   ],
   "source": [
    "df.info()"
   ]
  },
  {
   "cell_type": "code",
   "execution_count": 8,
   "id": "86a23e79",
   "metadata": {},
   "outputs": [
    {
     "data": {
      "text/plain": [
       "array([nan, 'yes', 'no'], dtype=object)"
      ]
     },
     "execution_count": 8,
     "metadata": {},
     "output_type": "execute_result"
    }
   ],
   "source": [
    "\n",
    "#Checking the unique values of the recommended column(target variable)\n",
    "df.recommended.unique()"
   ]
  },
  {
   "cell_type": "code",
   "execution_count": 9,
   "id": "b0329be1",
   "metadata": {},
   "outputs": [
    {
     "data": {
      "text/plain": [
       "airline               81\n",
       "overall               10\n",
       "author             44069\n",
       "review_date         3015\n",
       "customer_review    61172\n",
       "aircraft            2088\n",
       "traveller_type         4\n",
       "cabin                  4\n",
       "route              24549\n",
       "date_flown            63\n",
       "seat_comfort           5\n",
       "cabin_service          5\n",
       "food_bev               5\n",
       "entertainment          5\n",
       "ground_service         5\n",
       "value_for_money        5\n",
       "recommended            2\n",
       "dtype: int64"
      ]
     },
     "execution_count": 9,
     "metadata": {},
     "output_type": "execute_result"
    }
   ],
   "source": [
    "#check the unique value\n",
    "df.nunique()"
   ]
  },
  {
   "cell_type": "markdown",
   "id": "0702c12a",
   "metadata": {},
   "source": [
    "\n",
    "### Check Duplicate values\n"
   ]
  },
  {
   "cell_type": "code",
   "execution_count": 10,
   "id": "60296d73",
   "metadata": {},
   "outputs": [
    {
     "data": {
      "text/plain": [
       "70711"
      ]
     },
     "execution_count": 10,
     "metadata": {},
     "output_type": "execute_result"
    }
   ],
   "source": [
    "#counting  number of duplicated values \n",
    "df.duplicated().sum()"
   ]
  },
  {
   "cell_type": "code",
   "execution_count": 11,
   "id": "a0c6bb3c",
   "metadata": {},
   "outputs": [],
   "source": [
    "#droping the null values\n",
    "df.drop_duplicates(inplace = True)"
   ]
  },
  {
   "cell_type": "code",
   "execution_count": 12,
   "id": "ca1a5306",
   "metadata": {},
   "outputs": [
    {
     "data": {
      "text/plain": [
       "0"
      ]
     },
     "execution_count": 12,
     "metadata": {},
     "output_type": "execute_result"
    }
   ],
   "source": [
    "df.duplicated().sum()"
   ]
  },
  {
   "cell_type": "markdown",
   "id": "d8107321",
   "metadata": {},
   "source": [
    "### Check null values"
   ]
  },
  {
   "cell_type": "code",
   "execution_count": 13,
   "id": "1e2660d4",
   "metadata": {},
   "outputs": [
    {
     "data": {
      "text/plain": [
       "airline                1\n",
       "overall             1783\n",
       "author                 1\n",
       "review_date            1\n",
       "customer_review        1\n",
       "aircraft           42696\n",
       "traveller_type     23644\n",
       "cabin               2479\n",
       "route              23671\n",
       "date_flown         23750\n",
       "seat_comfort        4973\n",
       "cabin_service       4944\n",
       "food_bev           12843\n",
       "entertainment      20954\n",
       "ground_service     24015\n",
       "value_for_money     1857\n",
       "recommended         1423\n",
       "dtype: int64"
      ]
     },
     "execution_count": 13,
     "metadata": {},
     "output_type": "execute_result"
    }
   ],
   "source": [
    "#Checking the null value count for each column\n",
    "df.isnull().sum()"
   ]
  },
  {
   "cell_type": "markdown",
   "id": "16b50edd",
   "metadata": {},
   "source": [
    "## Exploratory Data Analysis And Visualization"
   ]
  },
  {
   "cell_type": "markdown",
   "id": "2c96cf90",
   "metadata": {},
   "source": [
    "## Questions-\n",
    "</br>\n",
    "<b>\n",
    "1.Which Traveller_type has more ratings?</br>\n",
    "\n",
    "2.Which type of Cabin has more recommendation?\n",
    "\n",
    "3.Is it Solo Leisure worth for Money?\n",
    "\n",
    "4.In Economy Class what is the average ratings of Food_bev and entertainment given by passenger?\n",
    "\n",
    "5.Which cabin type has overall service ratings?\n",
    "\n",
    "6.Which airline made highest trips?\n",
    "\n",
    "7.Comparison of all independent variable/features?</b>"
   ]
  },
  {
   "cell_type": "code",
   "execution_count": 14,
   "id": "2e93ab5a",
   "metadata": {},
   "outputs": [],
   "source": [
    "import warnings\n",
    "warnings.filterwarnings(\"ignore\")"
   ]
  },
  {
   "cell_type": "markdown",
   "id": "c9ab4611",
   "metadata": {},
   "source": [
    "\n",
    "## 1) Which Traveller_type has more ratings?"
   ]
  },
  {
   "cell_type": "code",
   "execution_count": 15,
   "id": "20a6f91e",
   "metadata": {},
   "outputs": [
    {
     "data": {
      "text/plain": [
       "<AxesSubplot:xlabel='traveller_type', ylabel='count'>"
      ]
     },
     "execution_count": 15,
     "metadata": {},
     "output_type": "execute_result"
    },
    {
     "data": {
      "image/png": "[encoded data removed]",
      "text/plain": [
       "<Figure size 648x432 with 1 Axes>"
      ]
     },
     "metadata": {
      "needs_background": "light"
     },
     "output_type": "display_data"
    }
   ],
   "source": [
    "\n",
    "#setting the figure size and plotting the graph\n",
    "plt.figure(figsize=(9,6))\n",
    "sns.countplot(df['traveller_type'])"
   ]
  },
  {
   "cell_type": "markdown",
   "id": "d49408f1",
   "metadata": {},
   "source": [
    "\n",
    "\n",
    "From above plot\n",
    "\n",
    "    Travelling type of Solo Leisure has more ratings\n",
    "\n"
   ]
  },
  {
   "cell_type": "markdown",
   "id": "93948773",
   "metadata": {},
   "source": [
    "## 2) Which type of Cabin has more recommendation?"
   ]
  },
  {
   "cell_type": "code",
   "execution_count": 16,
   "id": "a3b66f61",
   "metadata": {},
   "outputs": [
    {
     "data": {
      "text/plain": [
       "<AxesSubplot:xlabel='cabin', ylabel='count'>"
      ]
     },
     "execution_count": 16,
     "metadata": {},
     "output_type": "execute_result"
    },
    {
     "data": {
      "image/png": "[encoded data removed]",
      "text/plain": [
       "<Figure size 720x432 with 1 Axes>"
      ]
     },
     "metadata": {
      "needs_background": "light"
     },
     "output_type": "display_data"
    }
   ],
   "source": [
    "#setting the figure size and plotting the graph\n",
    "plt.figure(figsize=(10,6))\n",
    "sns.countplot(df['cabin'],hue=df['recommended'])"
   ]
  },
  {
   "cell_type": "markdown",
   "id": "d113da21",
   "metadata": {},
   "source": [
    "\n",
    "\n",
    "On the basis of graph -\n",
    "\n",
    "    Economy class has highest recommendation with bad reviews.\n",
    "\n",
    "    Business class has second most recommended cabin type with good reviews.\n",
    "\n",
    "    premium economy has equal reviews.\n",
    "\n",
    "    first class is least recommend cabin type with good reviews.\n",
    "\n"
   ]
  },
  {
   "cell_type": "markdown",
   "id": "d9834c71",
   "metadata": {},
   "source": [
    "## 3) Is it Solo Leisure worth for Money?"
   ]
  },
  {
   "cell_type": "code",
   "execution_count": 17,
   "id": "993007b2",
   "metadata": {},
   "outputs": [
    {
     "data": {
      "text/plain": [
       "<AxesSubplot:xlabel='traveller_type', ylabel='value_for_money'>"
      ]
     },
     "execution_count": 17,
     "metadata": {},
     "output_type": "execute_result"
    },
    {
     "data": {
      "image/png": "[encoded data removed]",
      "text/plain": [
       "<Figure size 576x432 with 1 Axes>"
      ]
     },
     "metadata": {
      "needs_background": "light"
     },
     "output_type": "display_data"
    }
   ],
   "source": [
    "\n",
    "\n",
    "#setting the figure size and plotting the grap\n",
    "plt.figure(figsize=(8,6))\n",
    "sns.barplot(x=df['traveller_type'],y=df['value_for_money'])\n",
    "     \n"
   ]
  },
  {
   "cell_type": "markdown",
   "id": "108c9075",
   "metadata": {},
   "source": [
    "\n",
    "From above plot\n",
    "\n",
    "Yes,Travelling Type of Solo Leisure worth of Money compare to other type of travelling.\n"
   ]
  },
  {
   "cell_type": "markdown",
   "id": "c1bf7a03",
   "metadata": {},
   "source": [
    "### 4) In Economy Class what is the average ratings of Food_bev and entertainment given by passenger?"
   ]
  },
  {
   "cell_type": "code",
   "execution_count": 18,
   "id": "630321b0",
   "metadata": {},
   "outputs": [
    {
     "data": {
      "text/html": [
       "<div>\n",
       "<style scoped>\n",
       "    .dataframe tbody tr th:only-of-type {\n",
       "        vertical-align: middle;\n",
       "    }\n",
       "\n",
       "    .dataframe tbody tr th {\n",
       "        vertical-align: top;\n",
       "    }\n",
       "\n",
       "    .dataframe thead th {\n",
       "        text-align: right;\n",
       "    }\n",
       "</style>\n",
       "<table border=\"1\" class=\"dataframe\">\n",
       "  <thead>\n",
       "    <tr style=\"text-align: right;\">\n",
       "      <th></th>\n",
       "      <th>cabin</th>\n",
       "      <th>food_bev</th>\n",
       "      <th>entertainment</th>\n",
       "    </tr>\n",
       "  </thead>\n",
       "  <tbody>\n",
       "    <tr>\n",
       "      <th>0</th>\n",
       "      <td>Business Class</td>\n",
       "      <td>3.525108</td>\n",
       "      <td>3.356407</td>\n",
       "    </tr>\n",
       "    <tr>\n",
       "      <th>1</th>\n",
       "      <td>Economy Class</td>\n",
       "      <td>2.776919</td>\n",
       "      <td>2.758083</td>\n",
       "    </tr>\n",
       "    <tr>\n",
       "      <th>2</th>\n",
       "      <td>First Class</td>\n",
       "      <td>3.384295</td>\n",
       "      <td>3.280827</td>\n",
       "    </tr>\n",
       "    <tr>\n",
       "      <th>3</th>\n",
       "      <td>Premium Economy</td>\n",
       "      <td>2.919603</td>\n",
       "      <td>3.038980</td>\n",
       "    </tr>\n",
       "  </tbody>\n",
       "</table>\n",
       "</div>"
      ],
      "text/plain": [
       "             cabin  food_bev  entertainment\n",
       "0   Business Class  3.525108       3.356407\n",
       "1    Economy Class  2.776919       2.758083\n",
       "2      First Class  3.384295       3.280827\n",
       "3  Premium Economy  2.919603       3.038980"
      ]
     },
     "execution_count": 18,
     "metadata": {},
     "output_type": "execute_result"
    }
   ],
   "source": [
    "avg_rating=df.groupby('cabin')[['food_bev','entertainment']].mean().reset_index()\n",
    "avg_rating"
   ]
  },
  {
   "cell_type": "code",
   "execution_count": 19,
   "id": "3114c095",
   "metadata": {},
   "outputs": [
    {
     "data": {
      "text/plain": [
       "<AxesSubplot:xlabel='cabin'>"
      ]
     },
     "execution_count": 19,
     "metadata": {},
     "output_type": "execute_result"
    },
    {
     "data": {
      "image/png": "[encoded data removed]",
      "text/plain": [
       "<Figure size 648x432 with 1 Axes>"
      ]
     },
     "metadata": {
      "needs_background": "light"
     },
     "output_type": "display_data"
    }
   ],
   "source": [
    "plt.rcParams['figure.figsize']=(9,6)\n",
    "avg_rating.plot(x=\"cabin\", y=[\"food_bev\", \"entertainment\"], kind=\"bar\")"
   ]
  },
  {
   "cell_type": "markdown",
   "id": "a9228f8c",
   "metadata": {},
   "source": [
    "\n",
    "\n",
    "From above plot\n",
    "\n",
    "In Economy Class the average ratings of Food_bev and entertainment given by passenger is lowest compared to other cabin classes.\n"
   ]
  },
  {
   "cell_type": "markdown",
   "id": "cbca5aed",
   "metadata": {},
   "source": [
    "## 5) Which cabin type has overall service ratings?"
   ]
  },
  {
   "cell_type": "code",
   "execution_count": 20,
   "id": "cc02a2e5",
   "metadata": {},
   "outputs": [
    {
     "data": {
      "text/plain": [
       "<AxesSubplot:xlabel='cabin', ylabel='overall'>"
      ]
     },
     "execution_count": 20,
     "metadata": {},
     "output_type": "execute_result"
    },
    {
     "data": {
      "image/png": "[encoded data removed]",
      "text/plain": [
       "<Figure size 720x360 with 1 Axes>"
      ]
     },
     "metadata": {
      "needs_background": "light"
     },
     "output_type": "display_data"
    }
   ],
   "source": [
    "#Cabin type and overall service ratings (out of 10)\n",
    "plt.figure(figsize=(10,5))\n",
    "sns.barplot(df.cabin, df.overall, hue = df['recommended'], palette= ['blue','red'])"
   ]
  },
  {
   "cell_type": "markdown",
   "id": "894629c7",
   "metadata": {},
   "source": [
    "If the trip is rated above 8 for overall section, the trip is most likely be recommended by the travellers.\n",
    "\n",
    "If it is below 3 , the unhappy travellers has not referred the airlines to their friends irrespective of their cabin type"
   ]
  },
  {
   "cell_type": "markdown",
   "id": "0fe5fdc6",
   "metadata": {},
   "source": [
    "\n",
    "## 6)Which airline made highest trips?"
   ]
  },
  {
   "cell_type": "code",
   "execution_count": 80,
   "id": "3d65f112",
   "metadata": {},
   "outputs": [
    {
     "data": {
      "text/plain": [
       "Spirit Airlines            2871\n",
       "American Airlines          2846\n",
       "United Airlines            2774\n",
       "British Airways            2731\n",
       "Emirates                   1763\n",
       "China Southern Airlines    1719\n",
       "Frontier Airlines          1622\n",
       "Ryanair                    1550\n",
       "Delta Air Lines            1535\n",
       "Turkish Airlines           1478\n",
       "Name: airline, dtype: int64"
      ]
     },
     "execution_count": 80,
     "metadata": {},
     "output_type": "execute_result"
    }
   ],
   "source": [
    "#get the number of trips each airline make.\n",
    "airlines_trip = df['airline'].value_counts()\n",
    "airlines_trip[:10]"
   ]
  },
  {
   "cell_type": "code",
   "execution_count": 22,
   "id": "c4de608c",
   "metadata": {},
   "outputs": [
    {
     "data": {
      "image/png": "[encoded data removed]",
      "text/plain": [
       "<Figure size 1152x432 with 1 Axes>"
      ]
     },
     "metadata": {
      "needs_background": "light"
     },
     "output_type": "display_data"
    }
   ],
   "source": [
    "\n",
    "\n",
    "# Visualize the top 10 airlines with most trips\n",
    "plt.figure(figsize=(16,6))\n",
    "airlines_trip[:10].plot(kind='bar',color = '#29b63c')\n",
    "plt.xlabel('Airline Type',fontsize=12)\n",
    "plt.ylabel('Count',fontsize=12)\n",
    "plt.title('Top 10 Airline ',fontsize=15)\n",
    "plt.xticks(rotation='horizontal')\n",
    "plt.show()\n",
    "\n",
    "     \n"
   ]
  },
  {
   "cell_type": "markdown",
   "id": "dd283bbb",
   "metadata": {},
   "source": [
    "\n",
    "\n",
    "We have observed that the top 5 airlines with most trips are-\n",
    "\n",
    "    Spirit Airlines\n",
    "\n",
    "    American Airlines\n",
    "\n",
    "    United Airlines\n",
    "\n",
    "    British Airways\n",
    "    \n",
    "    Emirates"
   ]
  },
  {
   "cell_type": "markdown",
   "id": "cee436c3",
   "metadata": {},
   "source": [
    "\n",
    "## 7) Comparison of all independent variable/features?\n"
   ]
  },
  {
   "cell_type": "code",
   "execution_count": 23,
   "id": "18aed01b",
   "metadata": {},
   "outputs": [
    {
     "data": {
      "image/png": "[encoded data removed]",
      "text/plain": [
       "<Figure size 1440x1080 with 9 Axes>"
      ]
     },
     "metadata": {
      "needs_background": "light"
     },
     "output_type": "display_data"
    }
   ],
   "source": [
    "\n",
    "#frequency distribution using histgram\n",
    "df.hist(bins=50, figsize=(20,15),color = 'red')\n",
    "plt.show()"
   ]
  },
  {
   "cell_type": "markdown",
   "id": "e19bc17e",
   "metadata": {},
   "source": [
    "\n",
    "\n",
    "From above plot\n",
    "\n",
    "    The overall feature ratings of 1 to 2 occur more frequently.\n",
    "\n",
    "From Seat comfort feature, We can say that rating of 1 is highest and rating of 4 is the second highest.\n",
    "\n",
    "    From cabin service feature, We can say that rating of 5 is highest and rating of 1 is the second highest.\n",
    "\n",
    "    The food bev feature ratings of 2,4 and 5 are varies equally.Which means their frequency are approximately equal.\n",
    "\n",
    "    The features of both the entertainment & ground service, We can say that ratings of 3 is highest and ratings of 1 is the second highest.\n",
    "\n",
    "    From value for money feature, It clearly shows that most of the passenger gives ratings of 1 as highest. From this we can say that most of the airline does not provide good service to passenger.\n",
    "\n"
   ]
  },
  {
   "cell_type": "code",
   "execution_count": 24,
   "id": "5a581c92",
   "metadata": {},
   "outputs": [
    {
     "name": "stdout",
     "output_type": "stream",
     "text": [
      "Missing Data Count\n",
      "\n",
      "aircraft           42696\n",
      "ground_service     24015\n",
      "date_flown         23750\n",
      "route              23671\n",
      "traveller_type     23644\n",
      "entertainment      20954\n",
      "food_bev           12843\n",
      "seat_comfort        4973\n",
      "cabin_service       4944\n",
      "cabin               2479\n",
      "value_for_money     1857\n",
      "overall             1783\n",
      "recommended         1423\n",
      "customer_review        1\n",
      "review_date            1\n",
      "author                 1\n",
      "airline                1\n",
      "dtype: int64\n",
      "----------------------------------------------------------------------------------------------------\n",
      "\n",
      "Missing Data Percentage %\n",
      "\n",
      "aircraft           69.78\n",
      "ground_service     39.25\n",
      "date_flown         38.82\n",
      "route              38.69\n",
      "traveller_type     38.64\n",
      "entertainment      34.25\n",
      "food_bev           20.99\n",
      "seat_comfort        8.13\n",
      "cabin_service       8.08\n",
      "cabin               4.05\n",
      "value_for_money     3.04\n",
      "overall             2.91\n",
      "recommended         2.33\n",
      "customer_review     0.00\n",
      "review_date         0.00\n",
      "author              0.00\n",
      "airline             0.00\n",
      "dtype: float64\n"
     ]
    }
   ],
   "source": [
    "# Count missing value and percentage\n",
    "def show_missing():\n",
    "    missing = df.columns[df.isnull().any()].tolist()\n",
    "    return missing\n",
    "\n",
    "print('Missing Data Count')\n",
    "print()\n",
    "print(df[show_missing()].isnull().sum().sort_values(ascending = False))\n",
    "print('--'*50)\n",
    "print()\n",
    "print('Missing Data Percentage %')\n",
    "print()\n",
    "print(round(df[show_missing()].isnull().sum().sort_values(ascending = False)/len(df)*100,2))"
   ]
  },
  {
   "cell_type": "code",
   "execution_count": 25,
   "id": "535d8961",
   "metadata": {},
   "outputs": [
    {
     "data": {
      "text/plain": [
       "2088"
      ]
     },
     "execution_count": 25,
     "metadata": {},
     "output_type": "execute_result"
    }
   ],
   "source": [
    "#checking the number of unique aircrafts\n",
    "df.aircraft.nunique()"
   ]
  },
  {
   "cell_type": "code",
   "execution_count": 26,
   "id": "874e49b2",
   "metadata": {},
   "outputs": [],
   "source": [
    "df = df.drop(['aircraft'],axis = 1)"
   ]
  },
  {
   "cell_type": "code",
   "execution_count": 27,
   "id": "20aac1de",
   "metadata": {},
   "outputs": [
    {
     "data": {
      "text/html": [
       "<div>\n",
       "<style scoped>\n",
       "    .dataframe tbody tr th:only-of-type {\n",
       "        vertical-align: middle;\n",
       "    }\n",
       "\n",
       "    .dataframe tbody tr th {\n",
       "        vertical-align: top;\n",
       "    }\n",
       "\n",
       "    .dataframe thead th {\n",
       "        text-align: right;\n",
       "    }\n",
       "</style>\n",
       "<table border=\"1\" class=\"dataframe\">\n",
       "  <thead>\n",
       "    <tr style=\"text-align: right;\">\n",
       "      <th></th>\n",
       "      <th>airline</th>\n",
       "      <th>overall</th>\n",
       "      <th>traveller_type</th>\n",
       "      <th>cabin</th>\n",
       "      <th>seat_comfort</th>\n",
       "      <th>cabin_service</th>\n",
       "      <th>food_bev</th>\n",
       "      <th>entertainment</th>\n",
       "      <th>ground_service</th>\n",
       "      <th>value_for_money</th>\n",
       "      <th>recommended</th>\n",
       "    </tr>\n",
       "  </thead>\n",
       "  <tbody>\n",
       "    <tr>\n",
       "      <th>0</th>\n",
       "      <td>NaN</td>\n",
       "      <td>NaN</td>\n",
       "      <td>NaN</td>\n",
       "      <td>NaN</td>\n",
       "      <td>NaN</td>\n",
       "      <td>NaN</td>\n",
       "      <td>NaN</td>\n",
       "      <td>NaN</td>\n",
       "      <td>NaN</td>\n",
       "      <td>NaN</td>\n",
       "      <td>NaN</td>\n",
       "    </tr>\n",
       "    <tr>\n",
       "      <th>1</th>\n",
       "      <td>Turkish Airlines</td>\n",
       "      <td>7.0</td>\n",
       "      <td>Business</td>\n",
       "      <td>Economy Class</td>\n",
       "      <td>4.0</td>\n",
       "      <td>5.0</td>\n",
       "      <td>4.0</td>\n",
       "      <td>4.0</td>\n",
       "      <td>2.0</td>\n",
       "      <td>4.0</td>\n",
       "      <td>yes</td>\n",
       "    </tr>\n",
       "    <tr>\n",
       "      <th>3</th>\n",
       "      <td>Turkish Airlines</td>\n",
       "      <td>2.0</td>\n",
       "      <td>Family Leisure</td>\n",
       "      <td>Economy Class</td>\n",
       "      <td>4.0</td>\n",
       "      <td>1.0</td>\n",
       "      <td>1.0</td>\n",
       "      <td>1.0</td>\n",
       "      <td>1.0</td>\n",
       "      <td>1.0</td>\n",
       "      <td>no</td>\n",
       "    </tr>\n",
       "    <tr>\n",
       "      <th>5</th>\n",
       "      <td>Turkish Airlines</td>\n",
       "      <td>3.0</td>\n",
       "      <td>Business</td>\n",
       "      <td>Economy Class</td>\n",
       "      <td>1.0</td>\n",
       "      <td>4.0</td>\n",
       "      <td>1.0</td>\n",
       "      <td>3.0</td>\n",
       "      <td>1.0</td>\n",
       "      <td>2.0</td>\n",
       "      <td>no</td>\n",
       "    </tr>\n",
       "    <tr>\n",
       "      <th>7</th>\n",
       "      <td>Turkish Airlines</td>\n",
       "      <td>10.0</td>\n",
       "      <td>Solo Leisure</td>\n",
       "      <td>Economy Class</td>\n",
       "      <td>4.0</td>\n",
       "      <td>5.0</td>\n",
       "      <td>5.0</td>\n",
       "      <td>5.0</td>\n",
       "      <td>5.0</td>\n",
       "      <td>5.0</td>\n",
       "      <td>yes</td>\n",
       "    </tr>\n",
       "  </tbody>\n",
       "</table>\n",
       "</div>"
      ],
      "text/plain": [
       "            airline  overall  traveller_type          cabin  seat_comfort  \\\n",
       "0               NaN      NaN             NaN            NaN           NaN   \n",
       "1  Turkish Airlines      7.0        Business  Economy Class           4.0   \n",
       "3  Turkish Airlines      2.0  Family Leisure  Economy Class           4.0   \n",
       "5  Turkish Airlines      3.0        Business  Economy Class           1.0   \n",
       "7  Turkish Airlines     10.0    Solo Leisure  Economy Class           4.0   \n",
       "\n",
       "   cabin_service  food_bev  entertainment  ground_service  value_for_money  \\\n",
       "0            NaN       NaN            NaN             NaN              NaN   \n",
       "1            5.0       4.0            4.0             2.0              4.0   \n",
       "3            1.0       1.0            1.0             1.0              1.0   \n",
       "5            4.0       1.0            3.0             1.0              2.0   \n",
       "7            5.0       5.0            5.0             5.0              5.0   \n",
       "\n",
       "  recommended  \n",
       "0         NaN  \n",
       "1         yes  \n",
       "3          no  \n",
       "5          no  \n",
       "7         yes  "
      ]
     },
     "execution_count": 27,
     "metadata": {},
     "output_type": "execute_result"
    }
   ],
   "source": [
    "#droping the columns from data which are not for our use\n",
    "data = df.drop(['author','review_date','route','date_flown','customer_review'],axis = 1)\n",
    "data.head()"
   ]
  },
  {
   "cell_type": "code",
   "execution_count": 28,
   "id": "8aff8b2c",
   "metadata": {},
   "outputs": [],
   "source": [
    "\n",
    "#Splitting the Numeric column\n",
    "low_null = ['overall','seat_comfort','cabin_service','value_for_money']\n",
    "high_null = ['food_bev','entertainment','ground_service']"
   ]
  },
  {
   "cell_type": "code",
   "execution_count": 29,
   "id": "feecc7bb",
   "metadata": {},
   "outputs": [],
   "source": [
    "#Imputation technique using Quantile-1 value\n",
    "def impute_by_q1_values(df,column):\n",
    "  Q1=np.percentile(np.sort(df[column].dropna()),25)\n",
    "  df[column].fillna(Q1,inplace=True)"
   ]
  },
  {
   "cell_type": "code",
   "execution_count": 30,
   "id": "daeb159f",
   "metadata": {},
   "outputs": [],
   "source": [
    "#Looping the null value column\n",
    "for col in low_null:\n",
    "  impute_by_q1_values(data,col)"
   ]
  },
  {
   "cell_type": "code",
   "execution_count": 31,
   "id": "6e31c1f2",
   "metadata": {},
   "outputs": [],
   "source": [
    "#Imputation technique using Median Imputation\n",
    "def median_imputation(df,column):\n",
    "  df[column].fillna(df[column].median(),inplace=True)"
   ]
  },
  {
   "cell_type": "code",
   "execution_count": 32,
   "id": "2c64ed1e",
   "metadata": {},
   "outputs": [],
   "source": [
    "#Looping the null value column\n",
    "for col in high_null:\n",
    "  median_imputation(data,col)"
   ]
  },
  {
   "cell_type": "code",
   "execution_count": 33,
   "id": "496e7759",
   "metadata": {},
   "outputs": [
    {
     "data": {
      "text/html": [
       "<div>\n",
       "<style scoped>\n",
       "    .dataframe tbody tr th:only-of-type {\n",
       "        vertical-align: middle;\n",
       "    }\n",
       "\n",
       "    .dataframe tbody tr th {\n",
       "        vertical-align: top;\n",
       "    }\n",
       "\n",
       "    .dataframe thead th {\n",
       "        text-align: right;\n",
       "    }\n",
       "</style>\n",
       "<table border=\"1\" class=\"dataframe\">\n",
       "  <thead>\n",
       "    <tr style=\"text-align: right;\">\n",
       "      <th></th>\n",
       "      <th>airline</th>\n",
       "      <th>overall</th>\n",
       "      <th>traveller_type</th>\n",
       "      <th>cabin</th>\n",
       "      <th>seat_comfort</th>\n",
       "      <th>cabin_service</th>\n",
       "      <th>food_bev</th>\n",
       "      <th>entertainment</th>\n",
       "      <th>ground_service</th>\n",
       "      <th>value_for_money</th>\n",
       "      <th>recommended</th>\n",
       "    </tr>\n",
       "  </thead>\n",
       "  <tbody>\n",
       "    <tr>\n",
       "      <th>0</th>\n",
       "      <td>NaN</td>\n",
       "      <td>1.0</td>\n",
       "      <td>NaN</td>\n",
       "      <td>NaN</td>\n",
       "      <td>2.0</td>\n",
       "      <td>2.0</td>\n",
       "      <td>3.0</td>\n",
       "      <td>3.0</td>\n",
       "      <td>3.0</td>\n",
       "      <td>1.0</td>\n",
       "      <td>NaN</td>\n",
       "    </tr>\n",
       "  </tbody>\n",
       "</table>\n",
       "</div>"
      ],
      "text/plain": [
       "  airline  overall traveller_type cabin  seat_comfort  cabin_service  \\\n",
       "0     NaN      1.0            NaN   NaN           2.0            2.0   \n",
       "\n",
       "   food_bev  entertainment  ground_service  value_for_money recommended  \n",
       "0       3.0            3.0             3.0              1.0         NaN  "
      ]
     },
     "execution_count": 33,
     "metadata": {},
     "output_type": "execute_result"
    }
   ],
   "source": [
    "data.head(1)"
   ]
  },
  {
   "cell_type": "code",
   "execution_count": 34,
   "id": "9d50892f",
   "metadata": {},
   "outputs": [],
   "source": [
    "#Remove recommended null value row\n",
    "data.dropna(subset=['recommended'],inplace=True)"
   ]
  },
  {
   "cell_type": "code",
   "execution_count": 35,
   "id": "f2590263",
   "metadata": {},
   "outputs": [],
   "source": [
    "data['traveller_type'].fillna(method=\"ffill\",inplace=True)"
   ]
  },
  {
   "cell_type": "code",
   "execution_count": 36,
   "id": "b26ae8a2",
   "metadata": {},
   "outputs": [],
   "source": [
    "data['cabin'].fillna(data['cabin'].mode().values[0],inplace=True)"
   ]
  },
  {
   "cell_type": "code",
   "execution_count": 37,
   "id": "50bb2a60",
   "metadata": {},
   "outputs": [
    {
     "data": {
      "text/html": [
       "<div>\n",
       "<style scoped>\n",
       "    .dataframe tbody tr th:only-of-type {\n",
       "        vertical-align: middle;\n",
       "    }\n",
       "\n",
       "    .dataframe tbody tr th {\n",
       "        vertical-align: top;\n",
       "    }\n",
       "\n",
       "    .dataframe thead th {\n",
       "        text-align: right;\n",
       "    }\n",
       "</style>\n",
       "<table border=\"1\" class=\"dataframe\">\n",
       "  <thead>\n",
       "    <tr style=\"text-align: right;\">\n",
       "      <th></th>\n",
       "      <th>airline</th>\n",
       "      <th>overall</th>\n",
       "      <th>traveller_type</th>\n",
       "      <th>cabin</th>\n",
       "      <th>seat_comfort</th>\n",
       "      <th>cabin_service</th>\n",
       "      <th>food_bev</th>\n",
       "      <th>entertainment</th>\n",
       "      <th>ground_service</th>\n",
       "      <th>value_for_money</th>\n",
       "      <th>recommended</th>\n",
       "    </tr>\n",
       "  </thead>\n",
       "  <tbody>\n",
       "    <tr>\n",
       "      <th>1</th>\n",
       "      <td>Turkish Airlines</td>\n",
       "      <td>7.0</td>\n",
       "      <td>Business</td>\n",
       "      <td>Economy Class</td>\n",
       "      <td>4.0</td>\n",
       "      <td>5.0</td>\n",
       "      <td>4.0</td>\n",
       "      <td>4.0</td>\n",
       "      <td>2.0</td>\n",
       "      <td>4.0</td>\n",
       "      <td>yes</td>\n",
       "    </tr>\n",
       "  </tbody>\n",
       "</table>\n",
       "</div>"
      ],
      "text/plain": [
       "            airline  overall traveller_type          cabin  seat_comfort  \\\n",
       "1  Turkish Airlines      7.0       Business  Economy Class           4.0   \n",
       "\n",
       "   cabin_service  food_bev  entertainment  ground_service  value_for_money  \\\n",
       "1            5.0       4.0            4.0             2.0              4.0   \n",
       "\n",
       "  recommended  \n",
       "1         yes  "
      ]
     },
     "execution_count": 37,
     "metadata": {},
     "output_type": "execute_result"
    }
   ],
   "source": [
    "data.head(1)"
   ]
  },
  {
   "cell_type": "code",
   "execution_count": 38,
   "id": "a5e0a72d",
   "metadata": {},
   "outputs": [],
   "source": [
    "#Checking the new null value percentage\n",
    "def show_missing(data):\n",
    "    missing = data.columns[data.isnull().any()].tolist()\n",
    "    print('Missing Data Count')\n",
    "    print()\n",
    "    print(data.isnull().sum().sort_values(ascending = False))\n",
    "    print('--'*50)\n",
    "    print()\n",
    "    print('Missing Data Percentage %')\n",
    "    print()\n",
    "    print(round(data.isnull().sum().sort_values(ascending = False)/len(df)*100,2))\n",
    "    \n",
    "\n",
    "\n"
   ]
  },
  {
   "cell_type": "code",
   "execution_count": 39,
   "id": "a70e148f",
   "metadata": {},
   "outputs": [
    {
     "name": "stdout",
     "output_type": "stream",
     "text": [
      "Missing Data Count\n",
      "\n",
      "airline            0\n",
      "overall            0\n",
      "traveller_type     0\n",
      "cabin              0\n",
      "seat_comfort       0\n",
      "cabin_service      0\n",
      "food_bev           0\n",
      "entertainment      0\n",
      "ground_service     0\n",
      "value_for_money    0\n",
      "recommended        0\n",
      "dtype: int64\n",
      "----------------------------------------------------------------------------------------------------\n",
      "\n",
      "Missing Data Percentage %\n",
      "\n",
      "airline            0.0\n",
      "overall            0.0\n",
      "traveller_type     0.0\n",
      "cabin              0.0\n",
      "seat_comfort       0.0\n",
      "cabin_service      0.0\n",
      "food_bev           0.0\n",
      "entertainment      0.0\n",
      "ground_service     0.0\n",
      "value_for_money    0.0\n",
      "recommended        0.0\n",
      "dtype: float64\n"
     ]
    }
   ],
   "source": [
    "\n",
    "show_missing(data)"
   ]
  },
  {
   "cell_type": "markdown",
   "id": "9be0fe0f",
   "metadata": {},
   "source": [
    "\n",
    "## Converting target as categorical data into numerical data: 'Label Encoding'"
   ]
  },
  {
   "cell_type": "code",
   "execution_count": 40,
   "id": "942ab744",
   "metadata": {},
   "outputs": [],
   "source": [
    "data['recommended'].replace({'yes':1,'no':0},inplace=True)"
   ]
  },
  {
   "cell_type": "code",
   "execution_count": 41,
   "id": "199f0acd",
   "metadata": {},
   "outputs": [
    {
     "data": {
      "text/html": [
       "<div>\n",
       "<style scoped>\n",
       "    .dataframe tbody tr th:only-of-type {\n",
       "        vertical-align: middle;\n",
       "    }\n",
       "\n",
       "    .dataframe tbody tr th {\n",
       "        vertical-align: top;\n",
       "    }\n",
       "\n",
       "    .dataframe thead th {\n",
       "        text-align: right;\n",
       "    }\n",
       "</style>\n",
       "<table border=\"1\" class=\"dataframe\">\n",
       "  <thead>\n",
       "    <tr style=\"text-align: right;\">\n",
       "      <th></th>\n",
       "      <th>airline</th>\n",
       "      <th>overall</th>\n",
       "      <th>traveller_type</th>\n",
       "      <th>cabin</th>\n",
       "      <th>seat_comfort</th>\n",
       "      <th>cabin_service</th>\n",
       "      <th>food_bev</th>\n",
       "      <th>entertainment</th>\n",
       "      <th>ground_service</th>\n",
       "      <th>value_for_money</th>\n",
       "      <th>recommended</th>\n",
       "    </tr>\n",
       "  </thead>\n",
       "  <tbody>\n",
       "    <tr>\n",
       "      <th>1</th>\n",
       "      <td>Turkish Airlines</td>\n",
       "      <td>7.0</td>\n",
       "      <td>Business</td>\n",
       "      <td>Economy Class</td>\n",
       "      <td>4.0</td>\n",
       "      <td>5.0</td>\n",
       "      <td>4.0</td>\n",
       "      <td>4.0</td>\n",
       "      <td>2.0</td>\n",
       "      <td>4.0</td>\n",
       "      <td>1</td>\n",
       "    </tr>\n",
       "    <tr>\n",
       "      <th>3</th>\n",
       "      <td>Turkish Airlines</td>\n",
       "      <td>2.0</td>\n",
       "      <td>Family Leisure</td>\n",
       "      <td>Economy Class</td>\n",
       "      <td>4.0</td>\n",
       "      <td>1.0</td>\n",
       "      <td>1.0</td>\n",
       "      <td>1.0</td>\n",
       "      <td>1.0</td>\n",
       "      <td>1.0</td>\n",
       "      <td>0</td>\n",
       "    </tr>\n",
       "    <tr>\n",
       "      <th>5</th>\n",
       "      <td>Turkish Airlines</td>\n",
       "      <td>3.0</td>\n",
       "      <td>Business</td>\n",
       "      <td>Economy Class</td>\n",
       "      <td>1.0</td>\n",
       "      <td>4.0</td>\n",
       "      <td>1.0</td>\n",
       "      <td>3.0</td>\n",
       "      <td>1.0</td>\n",
       "      <td>2.0</td>\n",
       "      <td>0</td>\n",
       "    </tr>\n",
       "  </tbody>\n",
       "</table>\n",
       "</div>"
      ],
      "text/plain": [
       "            airline  overall  traveller_type          cabin  seat_comfort  \\\n",
       "1  Turkish Airlines      7.0        Business  Economy Class           4.0   \n",
       "3  Turkish Airlines      2.0  Family Leisure  Economy Class           4.0   \n",
       "5  Turkish Airlines      3.0        Business  Economy Class           1.0   \n",
       "\n",
       "   cabin_service  food_bev  entertainment  ground_service  value_for_money  \\\n",
       "1            5.0       4.0            4.0             2.0              4.0   \n",
       "3            1.0       1.0            1.0             1.0              1.0   \n",
       "5            4.0       1.0            3.0             1.0              2.0   \n",
       "\n",
       "   recommended  \n",
       "1            1  \n",
       "3            0  \n",
       "5            0  "
      ]
     },
     "execution_count": 41,
     "metadata": {},
     "output_type": "execute_result"
    }
   ],
   "source": [
    "data.head(3)"
   ]
  },
  {
   "cell_type": "code",
   "execution_count": 42,
   "id": "655ebc41",
   "metadata": {},
   "outputs": [
    {
     "data": {
      "text/plain": [
       "<AxesSubplot:>"
      ]
     },
     "execution_count": 42,
     "metadata": {},
     "output_type": "execute_result"
    },
    {
     "data": {
      "image/png": "[encoded data removed]",
      "text/plain": [
       "<Figure size 864x720 with 2 Axes>"
      ]
     },
     "metadata": {
      "needs_background": "light"
     },
     "output_type": "display_data"
    }
   ],
   "source": [
    "\n",
    "\n",
    "plt.figure(figsize=(12,10))\n",
    "sns.heatmap(data.corr(), annot=True)\n",
    "     \n"
   ]
  },
  {
   "cell_type": "markdown",
   "id": "32764401",
   "metadata": {},
   "source": [
    "\n",
    "Correlation plot\n",
    "\n",
    "Drop overall column as it has highest correlation value than others.\n"
   ]
  },
  {
   "cell_type": "code",
   "execution_count": 43,
   "id": "70875441",
   "metadata": {},
   "outputs": [
    {
     "data": {
      "text/plain": [
       "Index(['airline', 'overall', 'traveller_type', 'cabin', 'seat_comfort',\n",
       "       'cabin_service', 'food_bev', 'entertainment', 'ground_service',\n",
       "       'value_for_money', 'recommended'],\n",
       "      dtype='object')"
      ]
     },
     "execution_count": 43,
     "metadata": {},
     "output_type": "execute_result"
    }
   ],
   "source": [
    "data.columns"
   ]
  },
  {
   "cell_type": "code",
   "execution_count": 44,
   "id": "65fe3f2d",
   "metadata": {},
   "outputs": [],
   "source": [
    "data.drop([\"overall\"], axis = 1, inplace = True)\n",
    "data.drop([\"airline\"], axis = 1, inplace = True)"
   ]
  },
  {
   "cell_type": "code",
   "execution_count": 45,
   "id": "b9eb6709",
   "metadata": {},
   "outputs": [
    {
     "data": {
      "text/html": [
       "<div>\n",
       "<style scoped>\n",
       "    .dataframe tbody tr th:only-of-type {\n",
       "        vertical-align: middle;\n",
       "    }\n",
       "\n",
       "    .dataframe tbody tr th {\n",
       "        vertical-align: top;\n",
       "    }\n",
       "\n",
       "    .dataframe thead th {\n",
       "        text-align: right;\n",
       "    }\n",
       "</style>\n",
       "<table border=\"1\" class=\"dataframe\">\n",
       "  <thead>\n",
       "    <tr style=\"text-align: right;\">\n",
       "      <th></th>\n",
       "      <th>traveller_type</th>\n",
       "      <th>cabin</th>\n",
       "      <th>seat_comfort</th>\n",
       "      <th>cabin_service</th>\n",
       "      <th>food_bev</th>\n",
       "      <th>entertainment</th>\n",
       "      <th>ground_service</th>\n",
       "      <th>value_for_money</th>\n",
       "      <th>recommended</th>\n",
       "    </tr>\n",
       "  </thead>\n",
       "  <tbody>\n",
       "    <tr>\n",
       "      <th>1</th>\n",
       "      <td>Business</td>\n",
       "      <td>Economy Class</td>\n",
       "      <td>4.0</td>\n",
       "      <td>5.0</td>\n",
       "      <td>4.0</td>\n",
       "      <td>4.0</td>\n",
       "      <td>2.0</td>\n",
       "      <td>4.0</td>\n",
       "      <td>1</td>\n",
       "    </tr>\n",
       "    <tr>\n",
       "      <th>3</th>\n",
       "      <td>Family Leisure</td>\n",
       "      <td>Economy Class</td>\n",
       "      <td>4.0</td>\n",
       "      <td>1.0</td>\n",
       "      <td>1.0</td>\n",
       "      <td>1.0</td>\n",
       "      <td>1.0</td>\n",
       "      <td>1.0</td>\n",
       "      <td>0</td>\n",
       "    </tr>\n",
       "  </tbody>\n",
       "</table>\n",
       "</div>"
      ],
      "text/plain": [
       "   traveller_type          cabin  seat_comfort  cabin_service  food_bev  \\\n",
       "1        Business  Economy Class           4.0            5.0       4.0   \n",
       "3  Family Leisure  Economy Class           4.0            1.0       1.0   \n",
       "\n",
       "   entertainment  ground_service  value_for_money  recommended  \n",
       "1            4.0             2.0              4.0            1  \n",
       "3            1.0             1.0              1.0            0  "
      ]
     },
     "execution_count": 45,
     "metadata": {},
     "output_type": "execute_result"
    }
   ],
   "source": [
    "data.head(2)"
   ]
  },
  {
   "cell_type": "code",
   "execution_count": 46,
   "id": "ca83642d",
   "metadata": {},
   "outputs": [],
   "source": [
    "#separating the dependent and independent variables\n",
    "y = data['recommended']\n",
    "x = data.drop(columns = 'recommended')"
   ]
  },
  {
   "cell_type": "markdown",
   "id": "2a3611c3",
   "metadata": {},
   "source": [
    "## One Hot Encoding"
   ]
  },
  {
   "cell_type": "code",
   "execution_count": 47,
   "id": "4ba312b5",
   "metadata": {},
   "outputs": [],
   "source": [
    "x = pd.get_dummies(x)"
   ]
  },
  {
   "cell_type": "code",
   "execution_count": 48,
   "id": "508b2cf8",
   "metadata": {},
   "outputs": [
    {
     "data": {
      "text/html": [
       "<div>\n",
       "<style scoped>\n",
       "    .dataframe tbody tr th:only-of-type {\n",
       "        vertical-align: middle;\n",
       "    }\n",
       "\n",
       "    .dataframe tbody tr th {\n",
       "        vertical-align: top;\n",
       "    }\n",
       "\n",
       "    .dataframe thead th {\n",
       "        text-align: right;\n",
       "    }\n",
       "</style>\n",
       "<table border=\"1\" class=\"dataframe\">\n",
       "  <thead>\n",
       "    <tr style=\"text-align: right;\">\n",
       "      <th></th>\n",
       "      <th>seat_comfort</th>\n",
       "      <th>cabin_service</th>\n",
       "      <th>food_bev</th>\n",
       "      <th>entertainment</th>\n",
       "      <th>ground_service</th>\n",
       "      <th>value_for_money</th>\n",
       "      <th>traveller_type_Business</th>\n",
       "      <th>traveller_type_Couple Leisure</th>\n",
       "      <th>traveller_type_Family Leisure</th>\n",
       "      <th>traveller_type_Solo Leisure</th>\n",
       "      <th>cabin_Business Class</th>\n",
       "      <th>cabin_Economy Class</th>\n",
       "      <th>cabin_First Class</th>\n",
       "      <th>cabin_Premium Economy</th>\n",
       "    </tr>\n",
       "  </thead>\n",
       "  <tbody>\n",
       "    <tr>\n",
       "      <th>1</th>\n",
       "      <td>4.0</td>\n",
       "      <td>5.0</td>\n",
       "      <td>4.0</td>\n",
       "      <td>4.0</td>\n",
       "      <td>2.0</td>\n",
       "      <td>4.0</td>\n",
       "      <td>1</td>\n",
       "      <td>0</td>\n",
       "      <td>0</td>\n",
       "      <td>0</td>\n",
       "      <td>0</td>\n",
       "      <td>1</td>\n",
       "      <td>0</td>\n",
       "      <td>0</td>\n",
       "    </tr>\n",
       "    <tr>\n",
       "      <th>3</th>\n",
       "      <td>4.0</td>\n",
       "      <td>1.0</td>\n",
       "      <td>1.0</td>\n",
       "      <td>1.0</td>\n",
       "      <td>1.0</td>\n",
       "      <td>1.0</td>\n",
       "      <td>0</td>\n",
       "      <td>0</td>\n",
       "      <td>1</td>\n",
       "      <td>0</td>\n",
       "      <td>0</td>\n",
       "      <td>1</td>\n",
       "      <td>0</td>\n",
       "      <td>0</td>\n",
       "    </tr>\n",
       "  </tbody>\n",
       "</table>\n",
       "</div>"
      ],
      "text/plain": [
       "   seat_comfort  cabin_service  food_bev  entertainment  ground_service  \\\n",
       "1           4.0            5.0       4.0            4.0             2.0   \n",
       "3           4.0            1.0       1.0            1.0             1.0   \n",
       "\n",
       "   value_for_money  traveller_type_Business  traveller_type_Couple Leisure  \\\n",
       "1              4.0                        1                              0   \n",
       "3              1.0                        0                              0   \n",
       "\n",
       "   traveller_type_Family Leisure  traveller_type_Solo Leisure  \\\n",
       "1                              0                            0   \n",
       "3                              1                            0   \n",
       "\n",
       "   cabin_Business Class  cabin_Economy Class  cabin_First Class  \\\n",
       "1                     0                    1                  0   \n",
       "3                     0                    1                  0   \n",
       "\n",
       "   cabin_Premium Economy  \n",
       "1                      0  \n",
       "3                      0  "
      ]
     },
     "execution_count": 48,
     "metadata": {},
     "output_type": "execute_result"
    }
   ],
   "source": [
    "x.head(2)"
   ]
  },
  {
   "cell_type": "code",
   "execution_count": 49,
   "id": "872f7e8a",
   "metadata": {},
   "outputs": [],
   "source": [
    "#confusion matrix\n",
    "\n",
    "def my_confusion_matrix(y_test, y_pred, plt_title):\n",
    "    \n",
    "    cm=confusion_matrix(y_test, y_pred)\n",
    "    \n",
    "    print(classification_report(y_test, y_pred))\n",
    "    \n",
    "    sns.heatmap(cm, annot=True, fmt='d')\n",
    "    plt.xlabel('Predicted Values')\n",
    "    plt.ylabel('Actual Values')\n",
    "    plt.title(plt_title)\n",
    "    plt.show()\n",
    "    return cm"
   ]
  },
  {
   "cell_type": "markdown",
   "id": "2598c395",
   "metadata": {},
   "source": [
    "## Splitting Train and Test Data"
   ]
  },
  {
   "cell_type": "code",
   "execution_count": 50,
   "id": "8af5158b",
   "metadata": {},
   "outputs": [],
   "source": [
    "\n",
    "#train and test split\n",
    "x_train, x_test, y_train, y_test = train_test_split( x,y , test_size = 0.2, random_state = 42)"
   ]
  },
  {
   "cell_type": "code",
   "execution_count": 51,
   "id": "32327394",
   "metadata": {},
   "outputs": [
    {
     "name": "stdout",
     "output_type": "stream",
     "text": [
      "(47808,)\n",
      "(11953,)\n"
     ]
    }
   ],
   "source": [
    "#shape of y_train and y_test data\n",
    "print(y_train.shape)\n",
    "print(y_test.shape)"
   ]
  },
  {
   "cell_type": "markdown",
   "id": "6962536a",
   "metadata": {},
   "source": [
    "## Model-1:Fitting Logistic Regression"
   ]
  },
  {
   "cell_type": "code",
   "execution_count": 52,
   "id": "f25a8612",
   "metadata": {},
   "outputs": [
    {
     "data": {
      "text/plain": [
       "LogisticRegression(max_iter=10000)"
      ]
     },
     "execution_count": 52,
     "metadata": {},
     "output_type": "execute_result"
    }
   ],
   "source": [
    "#logistic regression fitting \n",
    "log_reg = LogisticRegression(fit_intercept=True, max_iter=10000)\n",
    "log_reg.fit(x_train, y_train)"
   ]
  },
  {
   "cell_type": "code",
   "execution_count": 53,
   "id": "232b78dd",
   "metadata": {},
   "outputs": [
    {
     "data": {
      "text/plain": [
       "0.9324019074709278"
      ]
     },
     "execution_count": 53,
     "metadata": {},
     "output_type": "execute_result"
    }
   ],
   "source": [
    "log_reg.score(x_test,y_test)"
   ]
  },
  {
   "cell_type": "code",
   "execution_count": 54,
   "id": "31e4f953",
   "metadata": {},
   "outputs": [],
   "source": [
    "y_pred = log_reg.predict(x_test)"
   ]
  },
  {
   "cell_type": "code",
   "execution_count": 55,
   "id": "36c61750",
   "metadata": {},
   "outputs": [
    {
     "name": "stdout",
     "output_type": "stream",
     "text": [
      "Logistic Regression Accuracy Score:  0.9324019074709278\n",
      "              precision    recall  f1-score   support\n",
      "\n",
      "           0       0.94      0.93      0.93      6225\n",
      "           1       0.92      0.94      0.93      5728\n",
      "\n",
      "    accuracy                           0.93     11953\n",
      "   macro avg       0.93      0.93      0.93     11953\n",
      "weighted avg       0.93      0.93      0.93     11953\n",
      "\n"
     ]
    },
    {
     "data": {
      "image/png": "[encoded data removed]",
      "text/plain": [
       "<Figure size 648x432 with 2 Axes>"
      ]
     },
     "metadata": {
      "needs_background": "light"
     },
     "output_type": "display_data"
    }
   ],
   "source": [
    "print('Logistic Regression Accuracy Score: ',accuracy_score(y_test,y_pred))\n",
    "cm_rfc=my_confusion_matrix(y_test, y_pred, 'logistic regression Confusion Matrix')"
   ]
  },
  {
   "cell_type": "markdown",
   "id": "894a18a9",
   "metadata": {},
   "source": [
    "\n",
    "## Model-2:Fitting Decision Tree Classifer"
   ]
  },
  {
   "cell_type": "code",
   "execution_count": 56,
   "id": "029ae2ab",
   "metadata": {},
   "outputs": [
    {
     "data": {
      "text/plain": [
       "DecisionTreeClassifier()"
      ]
     },
     "execution_count": 56,
     "metadata": {},
     "output_type": "execute_result"
    }
   ],
   "source": [
    "#Initializing Decision Tree Model object\n",
    "tree_classify=DecisionTreeClassifier()\n",
    "#Taining a model with x and y\n",
    "tree_classify.fit(x_train,y_train)"
   ]
  },
  {
   "cell_type": "code",
   "execution_count": 57,
   "id": "b1554259",
   "metadata": {},
   "outputs": [
    {
     "name": "stdout",
     "output_type": "stream",
     "text": [
      "Training Accuracy of Decision Tree Model is 0.9745440093708166\n",
      "Testing Accuracy of Decision Tree Model is 0.9170082824395549\n"
     ]
    }
   ],
   "source": [
    "print(\"Training Accuracy of Decision Tree Model is\",tree_classify.score(x_train,y_train))\n",
    "print(\"Testing Accuracy of Decision Tree Model is\",tree_classify.score(x_test,y_test))\n",
    "     "
   ]
  },
  {
   "cell_type": "code",
   "execution_count": 58,
   "id": "734c6cc3",
   "metadata": {},
   "outputs": [],
   "source": [
    "y_pred = tree_classify.predict(x_test)"
   ]
  },
  {
   "cell_type": "code",
   "execution_count": 59,
   "id": "586e85c6",
   "metadata": {},
   "outputs": [
    {
     "name": "stdout",
     "output_type": "stream",
     "text": [
      "Decision tree Classifier Accuracy Score:  0.9170082824395549\n",
      "              precision    recall  f1-score   support\n",
      "\n",
      "           0       0.92      0.92      0.92      6225\n",
      "           1       0.92      0.91      0.91      5728\n",
      "\n",
      "    accuracy                           0.92     11953\n",
      "   macro avg       0.92      0.92      0.92     11953\n",
      "weighted avg       0.92      0.92      0.92     11953\n",
      "\n"
     ]
    },
    {
     "data": {
      "image/png": "[encoded data removed]",
      "text/plain": [
       "<Figure size 648x432 with 2 Axes>"
      ]
     },
     "metadata": {
      "needs_background": "light"
     },
     "output_type": "display_data"
    }
   ],
   "source": [
    "print('Decision tree Classifier Accuracy Score: ',accuracy_score(y_test,y_pred))\n",
    "cm_rfc=my_confusion_matrix(y_test, y_pred, 'Decision Tree  Confusion Matrix')"
   ]
  },
  {
   "cell_type": "markdown",
   "id": "6c14c1b7",
   "metadata": {},
   "source": [
    "## Model-3:Fitting Random Forest"
   ]
  },
  {
   "cell_type": "code",
   "execution_count": 60,
   "id": "1f439578",
   "metadata": {},
   "outputs": [
    {
     "data": {
      "text/plain": [
       "RandomForestClassifier()"
      ]
     },
     "execution_count": 60,
     "metadata": {},
     "output_type": "execute_result"
    }
   ],
   "source": [
    "random_forest = RandomForestClassifier()\n",
    "random_forest.fit(x_train,y_train)"
   ]
  },
  {
   "cell_type": "code",
   "execution_count": 61,
   "id": "d3e72dfc",
   "metadata": {},
   "outputs": [
    {
     "data": {
      "text/plain": [
       "0.9290554672467163"
      ]
     },
     "execution_count": 61,
     "metadata": {},
     "output_type": "execute_result"
    }
   ],
   "source": [
    "random_forest.score(x_test,y_test)"
   ]
  },
  {
   "cell_type": "code",
   "execution_count": 62,
   "id": "14f9c4a1",
   "metadata": {},
   "outputs": [],
   "source": [
    "y_pred = random_forest.predict(x_test)"
   ]
  },
  {
   "cell_type": "code",
   "execution_count": 63,
   "id": "89cec1d6",
   "metadata": {},
   "outputs": [
    {
     "name": "stdout",
     "output_type": "stream",
     "text": [
      "Random Forest Classifier Accuracy Score:  0.9290554672467163\n",
      "              precision    recall  f1-score   support\n",
      "\n",
      "           0       0.93      0.93      0.93      6225\n",
      "           1       0.93      0.92      0.93      5728\n",
      "\n",
      "    accuracy                           0.93     11953\n",
      "   macro avg       0.93      0.93      0.93     11953\n",
      "weighted avg       0.93      0.93      0.93     11953\n",
      "\n"
     ]
    },
    {
     "data": {
      "image/png": "[encoded data removed]",
      "text/plain": [
       "<Figure size 648x432 with 2 Axes>"
      ]
     },
     "metadata": {
      "needs_background": "light"
     },
     "output_type": "display_data"
    }
   ],
   "source": [
    "print('Random Forest Classifier Accuracy Score: ',accuracy_score(y_test,y_pred))\n",
    "cm_rfc=my_confusion_matrix(y_test, y_pred, 'Random Forest Confusion Matrix')"
   ]
  },
  {
   "cell_type": "markdown",
   "id": "239d6c9c",
   "metadata": {},
   "source": [
    "## Model-4:K-Nearest Neighbour"
   ]
  },
  {
   "cell_type": "code",
   "execution_count": 64,
   "id": "9d624081",
   "metadata": {},
   "outputs": [
    {
     "data": {
      "text/plain": [
       "KNeighborsClassifier()"
      ]
     },
     "execution_count": 64,
     "metadata": {},
     "output_type": "execute_result"
    }
   ],
   "source": [
    "k_neighbor = KNeighborsClassifier()\n",
    "k_neighbor.fit(x_train, y_train)"
   ]
  },
  {
   "cell_type": "code",
   "execution_count": 65,
   "id": "9632e02a",
   "metadata": {},
   "outputs": [],
   "source": [
    "y_pred = k_neighbor.predict(x_test)"
   ]
  },
  {
   "cell_type": "code",
   "execution_count": 66,
   "id": "1ed4a1da",
   "metadata": {},
   "outputs": [
    {
     "name": "stdout",
     "output_type": "stream",
     "text": [
      "0.9487951807228916\n",
      "0.9300593993139797\n"
     ]
    }
   ],
   "source": [
    "# Compute accuracy on the training set\n",
    "train_accuracy = k_neighbor.score(x_train, y_train)\n",
    "print(train_accuracy)\n",
    "# Compute accuracy on the test set\n",
    "test_accuracy = k_neighbor.score(x_test, y_test) \n",
    "print(test_accuracy)"
   ]
  },
  {
   "cell_type": "code",
   "execution_count": 67,
   "id": "47e393e0",
   "metadata": {},
   "outputs": [
    {
     "name": "stdout",
     "output_type": "stream",
     "text": [
      "KNN Classifier Accuracy Score:  0.9300593993139797\n",
      "\n",
      "              precision    recall  f1-score   support\n",
      "\n",
      "           0       0.93      0.93      0.93      6225\n",
      "           1       0.93      0.93      0.93      5728\n",
      "\n",
      "    accuracy                           0.93     11953\n",
      "   macro avg       0.93      0.93      0.93     11953\n",
      "weighted avg       0.93      0.93      0.93     11953\n",
      "\n"
     ]
    },
    {
     "data": {
      "image/png": "[encoded data removed]",
      "text/plain": [
       "<Figure size 648x432 with 2 Axes>"
      ]
     },
     "metadata": {
      "needs_background": "light"
     },
     "output_type": "display_data"
    }
   ],
   "source": [
    "print('KNN Classifier Accuracy Score: ',accuracy_score(y_test,y_pred))\n",
    "print()\n",
    "\n",
    "cm_rfc=my_confusion_matrix(y_test, y_pred, 'KNN Confusion Matrix')"
   ]
  },
  {
   "cell_type": "markdown",
   "id": "653db054",
   "metadata": {},
   "source": [
    "## Model-5:Support Vector Machine"
   ]
  },
  {
   "cell_type": "code",
   "execution_count": 68,
   "id": "7d9c69d4",
   "metadata": {},
   "outputs": [
    {
     "data": {
      "text/plain": [
       "SVC(kernel='linear')"
      ]
     },
     "execution_count": 68,
     "metadata": {},
     "output_type": "execute_result"
    }
   ],
   "source": [
    "support_vector = SVC(kernel='linear')\n",
    "support_vector.fit(x_train, y_train)"
   ]
  },
  {
   "cell_type": "code",
   "execution_count": 69,
   "id": "acdf4ab4",
   "metadata": {},
   "outputs": [
    {
     "data": {
      "text/plain": [
       "0.9318162804316907"
      ]
     },
     "execution_count": 69,
     "metadata": {},
     "output_type": "execute_result"
    }
   ],
   "source": [
    "#score for support vector machine\n",
    "support_vector.score(x_test, y_test)"
   ]
  },
  {
   "cell_type": "code",
   "execution_count": 70,
   "id": "811b3d31",
   "metadata": {},
   "outputs": [],
   "source": [
    "y_pred = support_vector.predict(x_test)   "
   ]
  },
  {
   "cell_type": "code",
   "execution_count": 71,
   "id": "c003843d",
   "metadata": {},
   "outputs": [
    {
     "name": "stdout",
     "output_type": "stream",
     "text": [
      "SVM Classifier Accuracy Score:  0.9318162804316907\n",
      "\n",
      "              precision    recall  f1-score   support\n",
      "\n",
      "           0       0.94      0.92      0.93      6225\n",
      "           1       0.92      0.94      0.93      5728\n",
      "\n",
      "    accuracy                           0.93     11953\n",
      "   macro avg       0.93      0.93      0.93     11953\n",
      "weighted avg       0.93      0.93      0.93     11953\n",
      "\n"
     ]
    },
    {
     "data": {
      "image/png": "[encoded data removed]",
      "text/plain": [
       "<Figure size 648x432 with 2 Axes>"
      ]
     },
     "metadata": {
      "needs_background": "light"
     },
     "output_type": "display_data"
    }
   ],
   "source": [
    "print('SVM Classifier Accuracy Score: ',accuracy_score(y_test,y_pred))\n",
    "print()\n",
    "\n",
    "cm_rfc=my_confusion_matrix(y_test, y_pred, 'SVM Confusion Matrix')"
   ]
  },
  {
   "cell_type": "markdown",
   "id": "05fe948a",
   "metadata": {},
   "source": [
    "## Model-6:Naïve Bayes Classifier"
   ]
  },
  {
   "cell_type": "code",
   "execution_count": 72,
   "id": "972d3920",
   "metadata": {},
   "outputs": [
    {
     "data": {
      "text/plain": [
       "GaussianNB()"
      ]
     },
     "execution_count": 72,
     "metadata": {},
     "output_type": "execute_result"
    }
   ],
   "source": [
    "#Implimanting naive bayes model\n",
    "naive_bayes = GaussianNB()\n",
    "naive_bayes.fit(x_train, y_train)"
   ]
  },
  {
   "cell_type": "code",
   "execution_count": 73,
   "id": "5ccb16f4",
   "metadata": {},
   "outputs": [
    {
     "data": {
      "text/plain": [
       "0.9177543507362784"
      ]
     },
     "execution_count": 73,
     "metadata": {},
     "output_type": "execute_result"
    }
   ],
   "source": [
    "#score for naive bayes\n",
    "naive_bayes.score(x_train,y_train)"
   ]
  },
  {
   "cell_type": "code",
   "execution_count": 74,
   "id": "4a1f133a",
   "metadata": {},
   "outputs": [],
   "source": [
    "# making predictions on the testing set\n",
    "y_pred = naive_bayes.predict(x_test)"
   ]
  },
  {
   "cell_type": "code",
   "execution_count": 75,
   "id": "890c2bb8",
   "metadata": {},
   "outputs": [
    {
     "name": "stdout",
     "output_type": "stream",
     "text": [
      "Gaussian NB Classifier Accuracy Score:  0.910901029030369\n",
      "\n",
      "              precision    recall  f1-score   support\n",
      "\n",
      "           0       0.91      0.92      0.92      6225\n",
      "           1       0.91      0.90      0.91      5728\n",
      "\n",
      "    accuracy                           0.91     11953\n",
      "   macro avg       0.91      0.91      0.91     11953\n",
      "weighted avg       0.91      0.91      0.91     11953\n",
      "\n"
     ]
    },
    {
     "data": {
      "image/png": "[encoded data removed]",
      "text/plain": [
       "<Figure size 648x432 with 2 Axes>"
      ]
     },
     "metadata": {
      "needs_background": "light"
     },
     "output_type": "display_data"
    }
   ],
   "source": [
    "print('Gaussian NB Classifier Accuracy Score: ',accuracy_score(y_test,y_pred))\n",
    "print()\n",
    "cm_rfc=my_confusion_matrix(y_test, y_pred, 'Gaussian NB Confusion Matrix')"
   ]
  },
  {
   "cell_type": "markdown",
   "id": "194e0b9f",
   "metadata": {},
   "source": [
    "\n",
    "## Accuracy Metrics for All Fitted Model"
   ]
  },
  {
   "cell_type": "code",
   "execution_count": 76,
   "id": "4be20892",
   "metadata": {},
   "outputs": [],
   "source": [
    "\n",
    "#Creating a function to return all Models Accuracy Score \n",
    "\n",
    "def accuracy_of_each_model(model,X_train,X_test):\n",
    "\n",
    "  #predicting a train datas\n",
    "  y_train_preds=model.predict(X_train)\n",
    "\n",
    "  #predicting a test datas\n",
    "  y_test_preds=model.predict(X_test)\n",
    "\n",
    "  #storing all training scores\n",
    "  train_scores=[]\n",
    "\n",
    "  #storing all test scores\n",
    "  test_scores=[]\n",
    "  metrics=['Accuracy_Score','Precsion_Score','Recall_Score','Roc_Auc_Score']\n",
    "\n",
    "  # Get the accuracy scores\n",
    "  train_accuracy_score = accuracy_score(y_train,y_train_preds)\n",
    "  test_accuracy_score = accuracy_score(y_test,y_test_preds)\n",
    "  \n",
    "  train_scores.append(train_accuracy_score)\n",
    "  test_scores.append(test_accuracy_score)\n",
    "\n",
    "  # Get the precision scores\n",
    "  train_precision_score = precision_score(y_train,y_train_preds)\n",
    "  test_precision_score = precision_score(y_test,y_test_preds)\n",
    "\n",
    "  train_scores.append(train_precision_score)\n",
    "  test_scores.append(test_precision_score)\n",
    "\n",
    "  # Get the recall scores\n",
    "  train_recall_score =recall_score(y_train,y_train_preds)\n",
    "  test_recall_score =recall_score(y_test,y_test_preds)\n",
    "\n",
    "  train_scores.append(train_recall_score)\n",
    "  test_scores.append(test_recall_score)\n",
    "\n",
    "  # Get the roc_auc scores\n",
    "  train_roc_auc_score=roc_auc_score(y_train,y_train_preds)\n",
    "  test_roc_auc_score =roc_auc_score(y_test,y_test_preds)\n",
    "\n",
    "  train_scores.append(train_roc_auc_score)\n",
    "  test_scores.append(test_roc_auc_score)\n",
    "\n",
    "  return train_scores,test_scores,metrics\n"
   ]
  },
  {
   "cell_type": "code",
   "execution_count": 77,
   "id": "67d40740",
   "metadata": {},
   "outputs": [],
   "source": [
    "\n",
    "models=[log_reg,tree_classify,random_forest,k_neighbor,support_vector,naive_bayes]\n",
    "name=['Logistic Regression Model','Decision Tree Model ','Random Forest Model ','k_neighbor','support vector','naive bayes']\n"
   ]
  },
  {
   "cell_type": "code",
   "execution_count": 78,
   "id": "09342ca2",
   "metadata": {},
   "outputs": [
    {
     "name": "stdout",
     "output_type": "stream",
     "text": [
      "{'Logistic Regression Model'}\n",
      "\n",
      "          Metrics  Train_Score  Test_Score\n",
      "0  Accuracy_Score     0.938964    0.932402\n",
      "1  Precsion_Score     0.928162    0.920945\n",
      "2    Recall_Score     0.944959    0.939595\n",
      "3   Roc_Auc_Score     0.939237    0.932689\n",
      "\n",
      "{'Decision Tree Model '}\n",
      "\n",
      "          Metrics  Train_Score  Test_Score\n",
      "0  Accuracy_Score     0.974544    0.917008\n",
      "1  Precsion_Score     0.977952    0.917637\n",
      "2    Recall_Score     0.968373    0.908345\n",
      "3   Roc_Auc_Score     0.974263    0.916662\n",
      "\n",
      "{'Random Forest Model '}\n",
      "\n",
      "          Metrics  Train_Score  Test_Score\n",
      "0  Accuracy_Score     0.974544    0.929055\n",
      "1  Precsion_Score     0.970768    0.927021\n",
      "2    Recall_Score     0.975928    0.924756\n",
      "3   Roc_Auc_Score     0.974607    0.928884\n",
      "\n",
      "{'k_neighbor'}\n",
      "\n",
      "          Metrics  Train_Score  Test_Score\n",
      "0  Accuracy_Score     0.948795    0.930059\n",
      "1  Precsion_Score     0.947294    0.928521\n",
      "2    Recall_Score     0.945047    0.925279\n",
      "3   Roc_Auc_Score     0.948625    0.929869\n",
      "\n",
      "{'support vector'}\n",
      "\n",
      "          Metrics  Train_Score  Test_Score\n",
      "0  Accuracy_Score     0.936705    0.931816\n",
      "1  Precsion_Score     0.922876    0.918555\n",
      "2    Recall_Score     0.946145    0.941166\n",
      "3   Roc_Auc_Score     0.937135    0.932190\n",
      "\n",
      "{'naive bayes'}\n",
      "\n",
      "          Metrics  Train_Score  Test_Score\n",
      "0  Accuracy_Score     0.917754    0.910901\n",
      "1  Precsion_Score     0.922928    0.914784\n",
      "2    Recall_Score     0.902658    0.897696\n",
      "3   Roc_Auc_Score     0.917068    0.910374\n",
      "\n"
     ]
    }
   ],
   "source": [
    "for model_ in range(len(models)):\n",
    "  train_score_,test_score_,metrics_=accuracy_of_each_model(models[model_],x_train,x_test)\n",
    "  print({name[model_]})\n",
    "  print(\"\")\n",
    "  print(pd.DataFrame(data={'Metrics':metrics_,'Train_Score':train_score_,'Test_Score':test_score_}))\n",
    "  print(\"\")"
   ]
  },
  {
   "cell_type": "markdown",
   "id": "2ebaca77",
   "metadata": {},
   "source": [
    "    \n",
    "<h2 style=\"color: #bf0e23 \" >Conclusion</h2>\n",
    "\n",
    "<h3 style=\"color: #29b63c \" >The Models used for this Classsification problem are</h3>\n",
    "<h4>Logistic Regression Model<br><br>\n",
    "    Decision Tree Model<br><br>\n",
    "    Random Forest Model<br><br>\n",
    "    K-Nearest Neighbor Model<br><br>\n",
    "    Support Vector Machine Model <br><br>\n",
    "    Naive Bayes </h4>\n",
    "\n",
    "    We performed Hyperparameter tuning using Gridsearch CV method for Decision Tree Model, Random Forest Model , K-Nearest Neighbor ,Support Vector Machine and Naive Bayes. To increase accuracy and avoid Overfitting Criteria, this is done. After that, we finalized the Gradient Boosting model by fine-tuning the hyperparameters.\n",
    "\n",
    "    Based on the knowledge of the business and the problem usecase. The Classification metrics of Recall is given first priority , Accuray is given second priority , and ROC AUC is given third priority.\n",
    "\n",
    "    We have built classifier models using 6 different types of classifiers and all these are able to give accuracy of more than 90%.* We can conclude that LogisticRegression gives the best model.\n",
    "\n",
    "    model evaluation metrics comparison, we can see that Support Vector Machine being the model with highest accuracy rate by a very small margin, works best among the experimented models for the given dataset.\n",
    "\n",
    "\n"
   ]
  },
  {
   "cell_type": "code",
   "execution_count": null,
   "id": "e3f601a7",
   "metadata": {},
   "outputs": [],
   "source": []
  },
  {
   "cell_type": "code",
   "execution_count": null,
   "id": "9903bbb9",
   "metadata": {},
   "outputs": [],
   "source": []
  }
 ],
 "metadata": {
  "kernelspec": {
   "display_name": "Python 3 (ipykernel)",
   "language": "python",
   "name": "python3"
  },
  "language_info": {
   "codemirror_mode": {
    "name": "ipython",
    "version": 3
   },
   "file_extension": ".py",
   "mimetype": "text/x-python",
   "name": "python",
   "nbconvert_exporter": "python",
   "pygments_lexer": "ipython3",
   "version": "3.9.12"
  }
 },
 "nbformat": 4,
 "nbformat_minor": 5
}
